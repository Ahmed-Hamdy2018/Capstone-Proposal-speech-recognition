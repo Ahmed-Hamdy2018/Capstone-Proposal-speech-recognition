{
 "cells": [
  {
   "cell_type": "code",
   "execution_count": 1,
   "metadata": {},
   "outputs": [
    {
     "name": "stderr",
     "output_type": "stream",
     "text": [
      "Using TensorFlow backend.\n"
     ]
    }
   ],
   "source": [
    "%matplotlib inline\n",
    "import matplotlib.pyplot as plt\n",
    "import os\n",
    "from scipy.io import wavfile\n",
    "from collections import defaultdict, Counter\n",
    "from scipy import signal\n",
    "import numpy as np\n",
    "import librosa\n",
    "import random as rn\n",
    "from keras.layers import Dense\n",
    "from keras import Input\n",
    "from keras.engine import Model\n",
    "from keras.utils import to_categorical\n",
    "from keras.layers import Dense, TimeDistributed, Dropout, Bidirectional, GRU, BatchNormalization, Activation, LeakyReLU, \\\n",
    "    LSTM, Flatten, RepeatVector, Permute, Multiply, Conv2D, MaxPooling2D"
   ]
  },
  {
   "cell_type": "markdown",
   "metadata": {},
   "source": [
    "# Loading the Dataset"
   ]
  },
  {
   "cell_type": "code",
   "execution_count": 2,
   "metadata": {},
   "outputs": [],
   "source": [
    "DATA_DIR = './free-spoken-digit-dataset-master/recordings/'"
   ]
  },
  {
   "cell_type": "code",
   "execution_count": 3,
   "metadata": {},
   "outputs": [],
   "source": [
    "random_file = rn.choice(os.listdir(DATA_DIR))"
   ]
  },
  {
   "cell_type": "markdown",
   "metadata": {},
   "source": [
    "# Loading the data with the default Librosa settings"
   ]
  },
  {
   "cell_type": "code",
   "execution_count": 4,
   "metadata": {},
   "outputs": [
    {
     "name": "stdout",
     "output_type": "stream",
     "text": [
      "sr: 22050\n",
      "wav shape: (8021,)\n",
      "length: 0.36376417233560093 secs\n"
     ]
    }
   ],
   "source": [
    "wav, sr = librosa.load(DATA_DIR + random_file)\n",
    "print ('sr:', sr)\n",
    "print ('wav shape:', wav.shape)\n",
    "print ('length:', wav.shape[0]/float(sr), 'secs')"
   ]
  },
  {
   "cell_type": "markdown",
   "metadata": {},
   "source": [
    "# Loading the data without the default Librosa sampling "
   ]
  },
  {
   "cell_type": "code",
   "execution_count": 5,
   "metadata": {},
   "outputs": [
    {
     "name": "stdout",
     "output_type": "stream",
     "text": [
      "sr: 8000\n",
      "wav shape: (2910,)\n",
      "length: 0.36375 secs\n"
     ]
    }
   ],
   "source": [
    "wav, sr = librosa.load(DATA_DIR + random_file, sr=None)\n",
    "print ('sr:', sr)\n",
    "print ('wav shape:', wav.shape)\n",
    "print ('length:', wav.shape[0]/float(sr), 'secs')"
   ]
  },
  {
   "cell_type": "code",
   "execution_count": 6,
   "metadata": {},
   "outputs": [
    {
     "data": {
      "text/plain": [
       "[<matplotlib.lines.Line2D at 0x7f813d43c668>]"
      ]
     },
     "execution_count": 6,
     "metadata": {},
     "output_type": "execute_result"
    },
    {
     "data": {
      "image/png": "[encoded data removed]",
      "text/plain": [
       "<matplotlib.figure.Figure at 0x7f815f7f4ef0>"
      ]
     },
     "metadata": {
      "needs_background": "light"
     },
     "output_type": "display_data"
    }
   ],
   "source": [
    "plt.plot(wav)"
   ]
  },
  {
   "cell_type": "markdown",
   "metadata": {},
   "source": [
    "# Splitting the Data into 2 speakers for trainging and 2 for testing."
   ]
  },
  {
   "cell_type": "code",
   "execution_count": 8,
   "metadata": {},
   "outputs": [
    {
     "name": "stdout",
     "output_type": "stream",
     "text": [
      "X: (2000, 30000)\n",
      "y: (2000,)\n"
     ]
    }
   ],
   "source": [
    "X = []\n",
    "y = []\n",
    "pad = lambda a, i: a[0: i] if a.shape[0] > i else np.hstack((a, np.zeros(i - a.shape[0])))\n",
    "for fname in os.listdir(DATA_DIR):\n",
    "    struct = fname.split('_')\n",
    "    digit = struct[0]\n",
    "    wav, sr = librosa.load(DATA_DIR + fname)\n",
    "    padded = pad(wav, 30000)\n",
    "    X.append(padded)\n",
    "    y.append(digit)\n",
    "X = np.vstack(X)\n",
    "y = np.array(y)\n",
    "print ('X:', X.shape)\n",
    "print ('y:', y.shape)"
   ]
  },
  {
   "cell_type": "markdown",
   "metadata": {},
   "source": [
    "# Preparing Test/Train Data"
   ]
  },
  {
   "cell_type": "raw",
   "metadata": {},
   "source": [
    "Here, I decided to select theo and jackson as my test data. And use the rest as my training data."
   ]
  },
  {
   "cell_type": "code",
   "execution_count": 9,
   "metadata": {},
   "outputs": [
    {
     "name": "stdout",
     "output_type": "stream",
     "text": [
      "train_X: (1000, 30000)\n",
      "train_spectrograms: (1000, 1025, 40)\n",
      "train_y: (1000, 10)\n",
      "test_X: (1000, 30000)\n",
      "test_spectrograms: (1000, 1025, 40)\n",
      "test_y: (1000, 10)\n"
     ]
    }
   ],
   "source": [
    "test_speaker = ['theo', 'jackson']\n",
    "train_X = []\n",
    "train_spectrograms = []\n",
    "train_y = []\n",
    "\n",
    "test_X = []\n",
    "test_spectrograms = []\n",
    "test_y = []\n",
    "\n",
    "pad1d = lambda a, i: a[0: i] if a.shape[0] > i else np.hstack((a, np.zeros(i - a.shape[0])))\n",
    "pad2d = lambda a, i: a[:, 0: i] if a.shape[1] > i else np.hstack((a, np.zeros((a.shape[0],i - a.shape[1]))))\n",
    "\n",
    "for fname in os.listdir(DATA_DIR):\n",
    "    try:\n",
    "        if '.wav' not in fname or 'dima' in fname:\n",
    "            continue\n",
    "        struct = fname.split('_')\n",
    "        digit = struct[0]\n",
    "        speaker = struct[1]\n",
    "        wav, sr = librosa.load(DATA_DIR + fname)\n",
    "        padded_x = pad1d(wav, 30000)\n",
    "        spectrogram = np.abs(librosa.stft(wav))\n",
    "        padded_spectogram = pad2d(spectrogram,40)\n",
    "\n",
    "\n",
    "\n",
    "        if speaker in (test_speaker):\n",
    "            test_X.append(padded_x)\n",
    "            test_spectrograms.append(padded_spectogram)\n",
    " \n",
    "            test_y.append(digit)\n",
    "        else:\n",
    "            train_X.append(padded_x)\n",
    "            train_spectrograms.append(padded_spectogram)\n",
    "            train_y.append(digit)\n",
    "    except Exception as e:\n",
    "        print (fname, e)\n",
    "        raise\n",
    "\n",
    "train_X = np.vstack(train_X)\n",
    "train_spectrograms = np.array(train_spectrograms)\n",
    "\n",
    "train_y = to_categorical(np.array(train_y))\n",
    "\n",
    "test_X = np.vstack(test_X)\n",
    "test_spectrograms = np.array(test_spectrograms)\n",
    "\n",
    "test_y = to_categorical(np.array(test_y))\n",
    "\n",
    "\n",
    "print ('train_X:', train_X.shape)\n",
    "print ('train_spectrograms:', train_spectrograms.shape)\n",
    "\n",
    "print ('train_y:', train_y.shape)\n",
    "print\n",
    "print ('test_X:', test_X.shape)\n",
    "print ('test_spectrograms:', test_spectrograms.shape)\n",
    "\n",
    "print ('test_y:', test_y.shape)"
   ]
  },
  {
   "cell_type": "markdown",
   "metadata": {},
   "source": [
    "# Here is the Benchmark model implementation"
   ]
  },
  {
   "cell_type": "raw",
   "metadata": {},
   "source": [
    "Here I will use a simple MLP network with a single hidden layer as the benchmodel for my solution."
   ]
  },
  {
   "cell_type": "code",
   "execution_count": 10,
   "metadata": {},
   "outputs": [
    {
     "name": "stdout",
     "output_type": "stream",
     "text": [
      "_________________________________________________________________\n",
      "Layer (type)                 Output Shape              Param #   \n",
      "=================================================================\n",
      "input_1 (InputLayer)         (None, 30000)             0         \n",
      "_________________________________________________________________\n",
      "dense_1 (Dense)              (None, 128)               3840128   \n",
      "_________________________________________________________________\n",
      "dense_2 (Dense)              (None, 10)                1290      \n",
      "=================================================================\n",
      "Total params: 3,841,418\n",
      "Trainable params: 3,841,418\n",
      "Non-trainable params: 0\n",
      "_________________________________________________________________\n"
     ]
    },
    {
     "name": "stderr",
     "output_type": "stream",
     "text": [
      "/opt/conda/lib/python3.6/site-packages/ipykernel_launcher.py:4: UserWarning: Update your `Model` call to the Keras 2 API: `Model(inputs=Tensor(\"in..., outputs=Tensor(\"de...)`\n",
      "  after removing the cwd from sys.path.\n"
     ]
    }
   ],
   "source": [
    "ip = Input(shape=(X[0].shape))\n",
    "hidden = Dense(128, activation='relu')(ip)\n",
    "op = Dense(10, activation='softmax')(hidden)\n",
    "model = Model(input=ip, output=op)\n",
    "model.summary()"
   ]
  },
  {
   "cell_type": "code",
   "execution_count": 11,
   "metadata": {},
   "outputs": [
    {
     "name": "stdout",
     "output_type": "stream",
     "text": [
      "Train on 1000 samples, validate on 1000 samples\n",
      "Epoch 1/10\n",
      "1000/1000 [==============================] - 5s 5ms/step - loss: 2.2681 - acc: 0.1320 - val_loss: 2.3410 - val_acc: 0.1350\n",
      "Epoch 2/10\n",
      "1000/1000 [==============================] - 5s 5ms/step - loss: 1.8726 - acc: 0.5080 - val_loss: 2.4365 - val_acc: 0.1430\n",
      "Epoch 3/10\n",
      "1000/1000 [==============================] - 5s 5ms/step - loss: 1.5841 - acc: 0.5990 - val_loss: 2.5943 - val_acc: 0.1380\n",
      "Epoch 4/10\n",
      "1000/1000 [==============================] - 5s 5ms/step - loss: 1.3597 - acc: 0.6840 - val_loss: 2.7886 - val_acc: 0.1230\n",
      "Epoch 5/10\n",
      "1000/1000 [==============================] - 5s 5ms/step - loss: 1.1891 - acc: 0.7500 - val_loss: 3.0159 - val_acc: 0.1230\n",
      "Epoch 6/10\n",
      "1000/1000 [==============================] - 5s 5ms/step - loss: 1.0509 - acc: 0.8000 - val_loss: 3.2598 - val_acc: 0.1270\n",
      "Epoch 7/10\n",
      "1000/1000 [==============================] - 5s 5ms/step - loss: 0.9348 - acc: 0.8450 - val_loss: 3.5019 - val_acc: 0.1280\n",
      "Epoch 8/10\n",
      "1000/1000 [==============================] - 5s 5ms/step - loss: 0.8289 - acc: 0.8700 - val_loss: 3.8014 - val_acc: 0.1350\n",
      "Epoch 9/10\n",
      "1000/1000 [==============================] - 5s 5ms/step - loss: 0.7335 - acc: 0.8910 - val_loss: 4.0520 - val_acc: 0.1330\n",
      "Epoch 10/10\n",
      "1000/1000 [==============================] - 5s 5ms/step - loss: 0.6440 - acc: 0.9130 - val_loss: 4.3411 - val_acc: 0.1320\n"
     ]
    }
   ],
   "source": [
    "model.compile(loss='categorical_crossentropy',\n",
    "              optimizer='adam',\n",
    "              metrics=['accuracy'])\n",
    "\n",
    "history = model.fit(train_X,\n",
    "          train_y,\n",
    "          epochs=10,\n",
    "          batch_size=32,\n",
    "          validation_data=(test_X, test_y))"
   ]
  },
  {
   "cell_type": "code",
   "execution_count": 12,
   "metadata": {},
   "outputs": [
    {
     "data": {
      "text/plain": [
       "<matplotlib.legend.Legend at 0x7f813c503668>"
      ]
     },
     "execution_count": 12,
     "metadata": {},
     "output_type": "execute_result"
    },
    {
     "data": {
      "image/png": "[encoded data removed]",
      "text/plain": [
       "<matplotlib.figure.Figure at 0x7f813cddb240>"
      ]
     },
     "metadata": {
      "needs_background": "light"
     },
     "output_type": "display_data"
    }
   ],
   "source": [
    "plt.plot(history.history['acc'], label='Train Accuracy')\n",
    "plt.plot(history.history['val_acc'], label='Validation Accuracy')\n",
    "plt.xlabel('Epochs')\n",
    "plt.ylabel('Accuracy')\n",
    "plt.legend()"
   ]
  },
  {
   "cell_type": "raw",
   "metadata": {},
   "source": [
    "As we can see it acts good on training data, but poorly on the validation data."
   ]
  },
  {
   "cell_type": "markdown",
   "metadata": {},
   "source": [
    "# Let's build the same Classification using CNN"
   ]
  },
  {
   "cell_type": "raw",
   "metadata": {},
   "source": [
    "Beside using the row wave files for training, I will use the spectrograms which is the standard way to handle sound files"
   ]
  },
  {
   "cell_type": "code",
   "execution_count": 13,
   "metadata": {},
   "outputs": [
    {
     "name": "stdout",
     "output_type": "stream",
     "text": [
      "train X shape: (1000, 1025, 40, 1)\n",
      "test X shape: (1000, 1025, 40, 1)\n"
     ]
    }
   ],
   "source": [
    "train_X_ex = np.expand_dims(train_spectrograms, -1)\n",
    "test_X_ex = np.expand_dims(test_spectrograms, -1)\n",
    "print ('train X shape:', train_X_ex.shape)\n",
    "print ('test X shape:', test_X_ex.shape)"
   ]
  },
  {
   "cell_type": "code",
   "execution_count": 14,
   "metadata": {},
   "outputs": [
    {
     "name": "stdout",
     "output_type": "stream",
     "text": [
      "_________________________________________________________________\n",
      "Layer (type)                 Output Shape              Param #   \n",
      "=================================================================\n",
      "input_2 (InputLayer)         (None, 1025, 40, 1)       0         \n",
      "_________________________________________________________________\n",
      "conv2d_2 (Conv2D)            (None, 1022, 37, 64)      1088      \n",
      "_________________________________________________________________\n",
      "max_pooling2d_2 (MaxPooling2 (None, 255, 9, 64)        0         \n",
      "_________________________________________________________________\n",
      "dropout_2 (Dropout)          (None, 255, 9, 64)        0         \n",
      "_________________________________________________________________\n",
      "flatten_1 (Flatten)          (None, 146880)            0         \n",
      "_________________________________________________________________\n",
      "dense_3 (Dense)              (None, 32)                4700192   \n",
      "_________________________________________________________________\n",
      "dense_4 (Dense)              (None, 10)                330       \n",
      "=================================================================\n",
      "Total params: 4,701,610\n",
      "Trainable params: 4,701,610\n",
      "Non-trainable params: 0\n",
      "_________________________________________________________________\n"
     ]
    },
    {
     "name": "stderr",
     "output_type": "stream",
     "text": [
      "/opt/conda/lib/python3.6/site-packages/ipykernel_launcher.py:12: UserWarning: Update your `Model` call to the Keras 2 API: `Model(inputs=Tensor(\"in..., outputs=Tensor(\"de...)`\n",
      "  if sys.path[0] == '':\n"
     ]
    }
   ],
   "source": [
    "ip = Input(shape=train_X_ex[0].shape)\n",
    "m = Conv2D(32, kernel_size=(4, 4), activation='relu', padding='same')(ip)\n",
    "m = MaxPooling2D(pool_size=(4, 4))(m)\n",
    "m = Dropout(0.2)(m)\n",
    "m = Conv2D(64, kernel_size=(4, 4), activation='relu')(ip)\n",
    "m = MaxPooling2D(pool_size=(4, 4))(m)\n",
    "m = Dropout(0.2)(m)\n",
    "m = Flatten()(m)\n",
    "m = Dense(32, activation='relu')(m)\n",
    "op = Dense(10, activation='softmax')(m)\n",
    "\n",
    "model = Model(input=ip, output=op)\n",
    "\n",
    "model.summary()"
   ]
  },
  {
   "cell_type": "code",
   "execution_count": 15,
   "metadata": {},
   "outputs": [
    {
     "name": "stdout",
     "output_type": "stream",
     "text": [
      "Train on 1000 samples, validate on 1000 samples\n",
      "Epoch 1/50\n",
      "1000/1000 [==============================] - 123s 123ms/step - loss: 1.5232 - acc: 0.4940 - val_loss: 4.8002 - val_acc: 0.3870\n",
      "Epoch 2/50\n",
      "1000/1000 [==============================] - 116s 116ms/step - loss: 0.5321 - acc: 0.8270 - val_loss: 4.7461 - val_acc: 0.3440\n",
      "Epoch 3/50\n",
      "1000/1000 [==============================] - 118s 118ms/step - loss: 0.2788 - acc: 0.9040 - val_loss: 4.7113 - val_acc: 0.4830\n",
      "Epoch 4/50\n",
      "1000/1000 [==============================] - 118s 118ms/step - loss: 0.2293 - acc: 0.9340 - val_loss: 5.4879 - val_acc: 0.4120\n",
      "Epoch 5/50\n",
      "1000/1000 [==============================] - 120s 120ms/step - loss: 0.2242 - acc: 0.9390 - val_loss: 5.5418 - val_acc: 0.4160\n",
      "Epoch 6/50\n",
      "1000/1000 [==============================] - 121s 121ms/step - loss: 0.1948 - acc: 0.9410 - val_loss: 5.2385 - val_acc: 0.4570\n",
      "Epoch 7/50\n",
      "1000/1000 [==============================] - 119s 119ms/step - loss: 0.1168 - acc: 0.9730 - val_loss: 4.2989 - val_acc: 0.5590\n",
      "Epoch 8/50\n",
      "1000/1000 [==============================] - 119s 119ms/step - loss: 0.0951 - acc: 0.9690 - val_loss: 5.2827 - val_acc: 0.4410\n",
      "Epoch 9/50\n",
      "1000/1000 [==============================] - 119s 119ms/step - loss: 0.0993 - acc: 0.9760 - val_loss: 5.2213 - val_acc: 0.4760\n",
      "Epoch 10/50\n",
      "1000/1000 [==============================] - 119s 119ms/step - loss: 0.0491 - acc: 0.9880 - val_loss: 4.9091 - val_acc: 0.4880\n",
      "Epoch 11/50\n",
      "1000/1000 [==============================] - 119s 119ms/step - loss: 0.0556 - acc: 0.9830 - val_loss: 4.6636 - val_acc: 0.5550\n",
      "Epoch 12/50\n",
      "1000/1000 [==============================] - 118s 118ms/step - loss: 0.0424 - acc: 0.9870 - val_loss: 4.8668 - val_acc: 0.5100\n",
      "Epoch 13/50\n",
      "1000/1000 [==============================] - 120s 120ms/step - loss: 0.1523 - acc: 0.9690 - val_loss: 4.9069 - val_acc: 0.4790\n",
      "Epoch 14/50\n",
      "1000/1000 [==============================] - 119s 119ms/step - loss: 0.3436 - acc: 0.9410 - val_loss: 6.2899 - val_acc: 0.4360\n",
      "Epoch 15/50\n",
      "1000/1000 [==============================] - 119s 119ms/step - loss: 0.2085 - acc: 0.9560 - val_loss: 5.9137 - val_acc: 0.4920\n",
      "Epoch 16/50\n",
      "1000/1000 [==============================] - 118s 118ms/step - loss: 0.1135 - acc: 0.9700 - val_loss: 5.7829 - val_acc: 0.4700\n",
      "Epoch 17/50\n",
      "1000/1000 [==============================] - 118s 118ms/step - loss: 0.1761 - acc: 0.9580 - val_loss: 5.0430 - val_acc: 0.5590\n",
      "Epoch 18/50\n",
      "1000/1000 [==============================] - 120s 120ms/step - loss: 0.1486 - acc: 0.9690 - val_loss: 5.7895 - val_acc: 0.5190\n",
      "Epoch 19/50\n",
      "1000/1000 [==============================] - 119s 119ms/step - loss: 0.1226 - acc: 0.9770 - val_loss: 5.0953 - val_acc: 0.5490\n",
      "Epoch 20/50\n",
      "1000/1000 [==============================] - 122s 122ms/step - loss: 0.0643 - acc: 0.9870 - val_loss: 4.8426 - val_acc: 0.5550\n",
      "Epoch 21/50\n",
      "1000/1000 [==============================] - 122s 122ms/step - loss: 0.0304 - acc: 0.9930 - val_loss: 5.1558 - val_acc: 0.5340\n",
      "Epoch 22/50\n",
      "1000/1000 [==============================] - 120s 120ms/step - loss: 0.0127 - acc: 0.9970 - val_loss: 5.0016 - val_acc: 0.5550\n",
      "Epoch 23/50\n",
      "1000/1000 [==============================] - 118s 118ms/step - loss: 0.0186 - acc: 0.9940 - val_loss: 5.0639 - val_acc: 0.5350\n",
      "Epoch 24/50\n",
      "1000/1000 [==============================] - 117s 117ms/step - loss: 0.0082 - acc: 0.9960 - val_loss: 5.0229 - val_acc: 0.5180\n",
      "Epoch 25/50\n",
      "1000/1000 [==============================] - 121s 121ms/step - loss: 0.0136 - acc: 0.9930 - val_loss: 4.8160 - val_acc: 0.5620\n",
      "Epoch 26/50\n",
      "1000/1000 [==============================] - 121s 121ms/step - loss: 0.0132 - acc: 0.9960 - val_loss: 5.0279 - val_acc: 0.5490\n",
      "Epoch 27/50\n",
      "1000/1000 [==============================] - 117s 117ms/step - loss: 0.0177 - acc: 0.9960 - val_loss: 5.1755 - val_acc: 0.5370\n",
      "Epoch 28/50\n",
      "1000/1000 [==============================] - 119s 119ms/step - loss: 0.2008 - acc: 0.9680 - val_loss: 5.3093 - val_acc: 0.5270\n",
      "Epoch 29/50\n",
      "1000/1000 [==============================] - 118s 118ms/step - loss: 0.2087 - acc: 0.9620 - val_loss: 6.1164 - val_acc: 0.4930\n",
      "Epoch 30/50\n",
      "1000/1000 [==============================] - 116s 116ms/step - loss: 0.2065 - acc: 0.9600 - val_loss: 5.3704 - val_acc: 0.5660\n",
      "Epoch 31/50\n",
      "1000/1000 [==============================] - 116s 116ms/step - loss: 0.1000 - acc: 0.9790 - val_loss: 5.2966 - val_acc: 0.5650\n",
      "Epoch 32/50\n",
      "1000/1000 [==============================] - 112s 112ms/step - loss: 0.1220 - acc: 0.9740 - val_loss: 5.2591 - val_acc: 0.5440\n",
      "Epoch 33/50\n",
      "1000/1000 [==============================] - 116s 116ms/step - loss: 0.1510 - acc: 0.9700 - val_loss: 5.1958 - val_acc: 0.5760\n",
      "Epoch 34/50\n",
      "1000/1000 [==============================] - 115s 115ms/step - loss: 0.0593 - acc: 0.9840 - val_loss: 5.3866 - val_acc: 0.5480\n",
      "Epoch 35/50\n",
      "1000/1000 [==============================] - 117s 117ms/step - loss: 0.0110 - acc: 0.9970 - val_loss: 5.2295 - val_acc: 0.5420\n",
      "Epoch 36/50\n",
      "1000/1000 [==============================] - 117s 117ms/step - loss: 0.0103 - acc: 0.9970 - val_loss: 4.6128 - val_acc: 0.6070\n",
      "Epoch 37/50\n",
      "1000/1000 [==============================] - 117s 117ms/step - loss: 0.0090 - acc: 0.9970 - val_loss: 5.1839 - val_acc: 0.5570\n",
      "Epoch 38/50\n",
      "1000/1000 [==============================] - 117s 117ms/step - loss: 0.0103 - acc: 0.9970 - val_loss: 4.7096 - val_acc: 0.5880\n",
      "Epoch 39/50\n",
      "1000/1000 [==============================] - 116s 116ms/step - loss: 0.0062 - acc: 0.9990 - val_loss: 4.8741 - val_acc: 0.5730\n",
      "Epoch 40/50\n",
      "1000/1000 [==============================] - 116s 116ms/step - loss: 0.0013 - acc: 1.0000 - val_loss: 4.7595 - val_acc: 0.5860\n",
      "Epoch 41/50\n",
      "1000/1000 [==============================] - 116s 116ms/step - loss: 6.6820e-04 - acc: 1.0000 - val_loss: 4.7476 - val_acc: 0.5860\n",
      "Epoch 42/50\n",
      "1000/1000 [==============================] - 117s 117ms/step - loss: 0.0025 - acc: 0.9990 - val_loss: 4.8284 - val_acc: 0.5780\n",
      "Epoch 43/50\n",
      "1000/1000 [==============================] - 117s 117ms/step - loss: 8.5412e-04 - acc: 1.0000 - val_loss: 4.7947 - val_acc: 0.5790\n",
      "Epoch 44/50\n",
      "1000/1000 [==============================] - 118s 118ms/step - loss: 7.1077e-04 - acc: 1.0000 - val_loss: 4.7725 - val_acc: 0.5830\n",
      "Epoch 45/50\n",
      "1000/1000 [==============================] - 116s 116ms/step - loss: 6.8668e-04 - acc: 1.0000 - val_loss: 4.7504 - val_acc: 0.5850\n",
      "Epoch 46/50\n",
      "1000/1000 [==============================] - 118s 118ms/step - loss: 4.9093e-04 - acc: 1.0000 - val_loss: 4.7762 - val_acc: 0.5860\n",
      "Epoch 47/50\n",
      "1000/1000 [==============================] - 120s 120ms/step - loss: 6.2777e-04 - acc: 1.0000 - val_loss: 4.8172 - val_acc: 0.5790\n",
      "Epoch 48/50\n",
      "1000/1000 [==============================] - 119s 119ms/step - loss: 5.5163e-04 - acc: 1.0000 - val_loss: 4.7780 - val_acc: 0.5850\n",
      "Epoch 49/50\n",
      "1000/1000 [==============================] - 118s 118ms/step - loss: 7.7215e-04 - acc: 1.0000 - val_loss: 4.7940 - val_acc: 0.5810\n",
      "Epoch 50/50\n",
      "1000/1000 [==============================] - 119s 119ms/step - loss: 4.6178e-04 - acc: 1.0000 - val_loss: 4.7609 - val_acc: 0.5890\n"
     ]
    }
   ],
   "source": [
    "model.compile(loss='categorical_crossentropy',\n",
    "              optimizer='adam',\n",
    "              metrics=['accuracy'])\n",
    "\n",
    "history = model.fit(train_X_ex,\n",
    "          train_y,\n",
    "          epochs=50,\n",
    "          batch_size=32,\n",
    "          verbose=1,\n",
    "          validation_data=(test_X_ex, test_y))"
   ]
  },
  {
   "cell_type": "code",
   "execution_count": 20,
   "metadata": {},
   "outputs": [
    {
     "data": {
      "text/plain": [
       "<matplotlib.legend.Legend at 0x7f80d49ce5f8>"
      ]
     },
     "execution_count": 20,
     "metadata": {},
     "output_type": "execute_result"
    },
    {
     "data": {
      "image/png": "[encoded data removed]",
      "text/plain": [
       "<matplotlib.figure.Figure at 0x7f80d5acb2e8>"
      ]
     },
     "metadata": {
      "needs_background": "light"
     },
     "output_type": "display_data"
    }
   ],
   "source": [
    "plt.plot(history.history['acc'], label='Train Accuracy')\n",
    "plt.plot(history.history['val_acc'], label='Validation Accuracy')\n",
    "plt.xlabel('Epochs')\n",
    "plt.ylabel('Accuracy')\n",
    "plt.legend()"
   ]
  },
  {
   "cell_type": "raw",
   "metadata": {},
   "source": [
    "We can see that the accuracy on both training and validation data are significantly good. "
   ]
  },
  {
   "cell_type": "markdown",
   "metadata": {},
   "source": [
    "# Conclusion"
   ]
  },
  {
   "cell_type": "raw",
   "metadata": {},
   "source": [
    "As I mention the goal from the project is to successfuly build a classifier that performs well on classifiying audio files to be uses on a Radio Station complete solution. Also the quality of the model significantly improved afer truning from a simple MLP model which is the benchmark model to a good accuracy on both training and testing data CNN model on spectroms data. "
   ]
  },
  {
   "cell_type": "raw",
   "metadata": {},
   "source": [
    "The CNN model reached an accuracy over 60% on validation data on epoch number '36' out of the 50 epoches that I used in Building the CNN classifier. "
   ]
  }
 ],
 "metadata": {
  "kernelspec": {
   "display_name": "Python 3",
   "language": "python",
   "name": "python3"
  },
  "language_info": {
   "codemirror_mode": {
    "name": "ipython",
    "version": 3
   },
   "file_extension": ".py",
   "mimetype": "text/x-python",
   "name": "python",
   "nbconvert_exporter": "python",
   "pygments_lexer": "ipython3",
   "version": "3.6.3"
  }
 },
 "nbformat": 4,
 "nbformat_minor": 2
}
